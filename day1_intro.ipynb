{
 "cells": [
  {
   "cell_type": "markdown",
   "id": "6ba93f98",
   "metadata": {},
   "source": [
    "# Day 1 – Getting Started with AI\n",
    "\n",
    "Today I set up my Python and Jupyter environment and wrote my first simple machine learning model using `scikit-learn`.\n",
    "\n",
    "### What I Did\n",
    "- Installed Python and Jupyter\n",
    "- Set up project repo in GitHub\n",
    "- Created and ran a basic linear regression model\n"
   ]
  },
  {
   "cell_type": "code",
   "execution_count": 1,
   "id": "832bf07a",
   "metadata": {},
   "outputs": [
    {
     "name": "stdout",
     "output_type": "stream",
     "text": [
      "Hello AI World 👋\n"
     ]
    }
   ],
   "source": [
    "print(\"Hello AI World 👋\")"
   ]
  },
  {
   "cell_type": "code",
   "execution_count": 3,
   "id": "9fe74c0a",
   "metadata": {},
   "outputs": [
    {
     "name": "stdout",
     "output_type": "stream",
     "text": [
      "Prediction for input 6: 18.000000000000004\n"
     ]
    }
   ],
   "source": [
    "from sklearn.linear_model import LinearRegression\n",
    "import numpy as np\n",
    "\n",
    "# Simple dummy data\n",
    "X = np.array([[1], [2], [3], [4], [5]])\n",
    "y = np.array([3, 6, 9, 12, 15])\n",
    "\n",
    "# Train model\n",
    "model = LinearRegression()\n",
    "model.fit(X, y)\n",
    "\n",
    "# Predict\n",
    "prediction = model.predict([[6]])\n",
    "print(\"Prediction for input 6:\", prediction[0])"
   ]
  }
 ],
 "metadata": {
  "kernelspec": {
   "display_name": "Python 3",
   "language": "python",
   "name": "python3"
  },
  "language_info": {
   "codemirror_mode": {
    "name": "ipython",
    "version": 3
   },
   "file_extension": ".py",
   "mimetype": "text/x-python",
   "name": "python",
   "nbconvert_exporter": "python",
   "pygments_lexer": "ipython3",
   "version": "3.12.9"
  }
 },
 "nbformat": 4,
 "nbformat_minor": 5
}
